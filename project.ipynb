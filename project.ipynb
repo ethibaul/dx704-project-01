{
  "cells": [
    {
      "cell_type": "markdown",
      "metadata": {
        "id": "DDELa7o5UXrY"
      },
      "source": [
        "# DX 704 Week 1 Project\n",
        "\n",
        "This week's project will build a portfolio risk and return model, and make investing recommendations for hypothetical clients.\n",
        "You will collect historical data, estimate returns and risks, construct efficient frontier portfolios, and sanity check the certainty of the maximum return portfolio."
      ]
    },
    {
      "cell_type": "markdown",
      "metadata": {
        "id": "P6SxppNu8p8k"
      },
      "source": [
        "The full project description and a template notebook are available on GitHub at the following link.\n",
        "\n",
        "https://github.com/bu-cds-dx704/dx704-project-01\n"
      ]
    },
    {
      "cell_type": "markdown",
      "metadata": {
        "id": "GmIaQcdCwObV"
      },
      "source": [
        "Feel free to use optimization tools or libraries (such as CVXOPT or scipy.optimize) to perform any calculations required for this mini project."
      ]
    },
    {
      "cell_type": "markdown",
      "metadata": {},
      "source": [
        "### Example Code\n",
        "\n",
        "You may find it helpful to refer to these GitHub repositories of Jupyter notebooks for example code.\n",
        "\n",
        "* https://github.com/bu-cds-omds/dx601-examples\n",
        "* https://github.com/bu-cds-omds/dx602-examples\n",
        "* https://github.com/bu-cds-omds/dx603-examples\n",
        "* https://github.com/bu-cds-omds/dx704-examples\n",
        "\n",
        "Any calculations demonstrated in code examples or videos may be found in these notebooks, and you are allowed to copy this example code in your homework answers."
      ]
    },
    {
      "cell_type": "markdown",
      "metadata": {
        "id": "pv3PslO0V5Lm"
      },
      "source": [
        "## Part 1: Collect Data\n",
        "\n",
        "Collect historical monthly price data for the last 24 months covering 6 different stocks.\n",
        "The data should cover 24 consecutive months including the last month that ended before this week's material was released on Blackboard.\n",
        "To be clear, if a month ends between the Blackboard release and submitting your project, you do not need to add that month.\n",
        "\n",
        "The six different stocks must include AAPL, SPY and TSLA.\n",
        "At least one of the remaining 3 tickers must start with the same letter as your last name (e.g. professor Considine could use COIN).\n",
        "This is to encourage diversity in what stocks you analyze; if you discuss this project with classmates, please make sure that you pick different tickers to differentiate your work.\n",
        "Do not pick stocks with fewer than 24 consecutive months of price data."
      ]
    },
    {
      "cell_type": "code",
      "execution_count": 50,
      "metadata": {
        "id": "6pL-ppubxfvC"
      },
      "outputs": [],
      "source": [
        "# YOUR CHANGES HERE\n",
        "\n",
        "# Data was collected from the Nasdaq website and compiled manually in csv format.\n",
        "\n",
        "import pandas as pd\n",
        "\n",
        "# Read in TSV file\n",
        "historical_data = pd.read_csv(\"historical_data.tsv\", sep=\"\\t\", header=0)"
      ]
    },
    {
      "cell_type": "code",
      "execution_count": 51,
      "metadata": {},
      "outputs": [
        {
          "name": "stdout",
          "output_type": "stream",
          "text": [
            "<class 'pandas.core.frame.DataFrame'>\n",
            "RangeIndex: 24 entries, 0 to 23\n",
            "Data columns (total 7 columns):\n",
            " #   Column  Non-Null Count  Dtype  \n",
            "---  ------  --------------  -----  \n",
            " 0   Date    24 non-null     object \n",
            " 1   SPY     24 non-null     float64\n",
            " 2   TSLA    24 non-null     float64\n",
            " 3   NFLX    24 non-null     float64\n",
            " 4   AAPL    24 non-null     float64\n",
            " 5   T       24 non-null     float64\n",
            " 6   META    24 non-null     float64\n",
            "dtypes: float64(6), object(1)\n",
            "memory usage: 1.4+ KB\n"
          ]
        }
      ],
      "source": [
        "historical_data.info()"
      ]
    },
    {
      "cell_type": "code",
      "execution_count": 52,
      "metadata": {},
      "outputs": [
        {
          "data": {
            "text/html": [
              "<div>\n",
              "<style scoped>\n",
              "    .dataframe tbody tr th:only-of-type {\n",
              "        vertical-align: middle;\n",
              "    }\n",
              "\n",
              "    .dataframe tbody tr th {\n",
              "        vertical-align: top;\n",
              "    }\n",
              "\n",
              "    .dataframe thead th {\n",
              "        text-align: right;\n",
              "    }\n",
              "</style>\n",
              "<table border=\"1\" class=\"dataframe\">\n",
              "  <thead>\n",
              "    <tr style=\"text-align: right;\">\n",
              "      <th></th>\n",
              "      <th>Date</th>\n",
              "      <th>SPY</th>\n",
              "      <th>TSLA</th>\n",
              "      <th>NFLX</th>\n",
              "      <th>AAPL</th>\n",
              "      <th>T</th>\n",
              "      <th>META</th>\n",
              "    </tr>\n",
              "  </thead>\n",
              "  <tbody>\n",
              "    <tr>\n",
              "      <th>0</th>\n",
              "      <td>8/29/25</td>\n",
              "      <td>645.05</td>\n",
              "      <td>333.87</td>\n",
              "      <td>1208.25</td>\n",
              "      <td>232.14</td>\n",
              "      <td>29.29</td>\n",
              "      <td>738.70</td>\n",
              "    </tr>\n",
              "    <tr>\n",
              "      <th>1</th>\n",
              "      <td>7/31/25</td>\n",
              "      <td>632.08</td>\n",
              "      <td>308.27</td>\n",
              "      <td>1159.40</td>\n",
              "      <td>207.57</td>\n",
              "      <td>27.41</td>\n",
              "      <td>773.44</td>\n",
              "    </tr>\n",
              "    <tr>\n",
              "      <th>2</th>\n",
              "      <td>6/30/25</td>\n",
              "      <td>617.85</td>\n",
              "      <td>317.66</td>\n",
              "      <td>1339.13</td>\n",
              "      <td>205.17</td>\n",
              "      <td>28.94</td>\n",
              "      <td>738.09</td>\n",
              "    </tr>\n",
              "    <tr>\n",
              "      <th>3</th>\n",
              "      <td>5/30/25</td>\n",
              "      <td>589.39</td>\n",
              "      <td>346.46</td>\n",
              "      <td>1207.23</td>\n",
              "      <td>200.85</td>\n",
              "      <td>27.80</td>\n",
              "      <td>647.49</td>\n",
              "    </tr>\n",
              "    <tr>\n",
              "      <th>4</th>\n",
              "      <td>4/30/25</td>\n",
              "      <td>554.54</td>\n",
              "      <td>282.16</td>\n",
              "      <td>1131.72</td>\n",
              "      <td>212.50</td>\n",
              "      <td>27.70</td>\n",
              "      <td>549.00</td>\n",
              "    </tr>\n",
              "  </tbody>\n",
              "</table>\n",
              "</div>"
            ],
            "text/plain": [
              "      Date     SPY    TSLA     NFLX    AAPL      T    META\n",
              "0  8/29/25  645.05  333.87  1208.25  232.14  29.29  738.70\n",
              "1  7/31/25  632.08  308.27  1159.40  207.57  27.41  773.44\n",
              "2  6/30/25  617.85  317.66  1339.13  205.17  28.94  738.09\n",
              "3  5/30/25  589.39  346.46  1207.23  200.85  27.80  647.49\n",
              "4  4/30/25  554.54  282.16  1131.72  212.50  27.70  549.00"
            ]
          },
          "execution_count": 52,
          "metadata": {},
          "output_type": "execute_result"
        }
      ],
      "source": [
        "historical_data.head()"
      ]
    },
    {
      "cell_type": "markdown",
      "metadata": {
        "id": "1uH9oDQ1rEQT"
      },
      "source": [
        "Save the data as a TSV file named \"historical_prices.tsv\" and include a header row with the column names \"date\" and the 6 stock ticker symbols.\n",
        "The date should be the last trading day of the month, so it may not be the last day of the month.\n",
        "For example, the last trading day of November 2024 was 2024-11-29.\n",
        "The remaining columns should contain the adjusted closing prices of the corresponding stock tickers on that day.\n"
      ]
    },
    {
      "cell_type": "code",
      "execution_count": 57,
      "metadata": {
        "id": "mHbwKHOhtQ3E"
      },
      "outputs": [],
      "source": [
        "# YOUR CHANGES HERE\n",
        "\n",
        "historical_data.to_csv(\"historical_prices.tsv\", sep=\"\\t\", index=False, header=1)\n"
      ]
    },
    {
      "cell_type": "markdown",
      "metadata": {
        "id": "2hp0yuXPtT9V"
      },
      "source": [
        "Submit \"historical_prices.tsv\" in Gradescope."
      ]
    },
    {
      "cell_type": "markdown",
      "metadata": {
        "id": "7XdNVWWirUd5"
      },
      "source": [
        "## Part 2: Calculate Historical Asset Returns\n",
        "\n",
        "Calculate the historical asset returns based on the price data that you previously collected."
      ]
    },
    {
      "cell_type": "code",
      "execution_count": 84,
      "metadata": {
        "id": "aL-kVua2xex-"
      },
      "outputs": [
        {
          "name": "stderr",
          "output_type": "stream",
          "text": [
            "/tmp/ipykernel_9043/4255643608.py:10: UserWarning: Could not infer format, so each element will be parsed individually, falling back to `dateutil`. To ensure parsing is consistent and as-expected, please specify a format.\n",
            "  historical_prices[\"Date\"] = pd.to_datetime(historical_prices[\"Date\"])\n"
          ]
        },
        {
          "data": {
            "text/html": [
              "<div>\n",
              "<style scoped>\n",
              "    .dataframe tbody tr th:only-of-type {\n",
              "        vertical-align: middle;\n",
              "    }\n",
              "\n",
              "    .dataframe tbody tr th {\n",
              "        vertical-align: top;\n",
              "    }\n",
              "\n",
              "    .dataframe thead th {\n",
              "        text-align: right;\n",
              "    }\n",
              "</style>\n",
              "<table border=\"1\" class=\"dataframe\">\n",
              "  <thead>\n",
              "    <tr style=\"text-align: right;\">\n",
              "      <th></th>\n",
              "      <th>SPY</th>\n",
              "      <th>TSLA</th>\n",
              "      <th>NFLX</th>\n",
              "      <th>AAPL</th>\n",
              "      <th>T</th>\n",
              "      <th>META</th>\n",
              "    </tr>\n",
              "    <tr>\n",
              "      <th>Date</th>\n",
              "      <th></th>\n",
              "      <th></th>\n",
              "      <th></th>\n",
              "      <th></th>\n",
              "      <th></th>\n",
              "      <th></th>\n",
              "    </tr>\n",
              "  </thead>\n",
              "  <tbody>\n",
              "    <tr>\n",
              "      <th>2025-08-29</th>\n",
              "      <td>645.05</td>\n",
              "      <td>333.87</td>\n",
              "      <td>1208.25</td>\n",
              "      <td>232.14</td>\n",
              "      <td>29.29</td>\n",
              "      <td>738.70</td>\n",
              "    </tr>\n",
              "    <tr>\n",
              "      <th>2025-07-31</th>\n",
              "      <td>632.08</td>\n",
              "      <td>308.27</td>\n",
              "      <td>1159.40</td>\n",
              "      <td>207.57</td>\n",
              "      <td>27.41</td>\n",
              "      <td>773.44</td>\n",
              "    </tr>\n",
              "    <tr>\n",
              "      <th>2025-06-30</th>\n",
              "      <td>617.85</td>\n",
              "      <td>317.66</td>\n",
              "      <td>1339.13</td>\n",
              "      <td>205.17</td>\n",
              "      <td>28.94</td>\n",
              "      <td>738.09</td>\n",
              "    </tr>\n",
              "    <tr>\n",
              "      <th>2025-05-30</th>\n",
              "      <td>589.39</td>\n",
              "      <td>346.46</td>\n",
              "      <td>1207.23</td>\n",
              "      <td>200.85</td>\n",
              "      <td>27.80</td>\n",
              "      <td>647.49</td>\n",
              "    </tr>\n",
              "    <tr>\n",
              "      <th>2025-04-30</th>\n",
              "      <td>554.54</td>\n",
              "      <td>282.16</td>\n",
              "      <td>1131.72</td>\n",
              "      <td>212.50</td>\n",
              "      <td>27.70</td>\n",
              "      <td>549.00</td>\n",
              "    </tr>\n",
              "    <tr>\n",
              "      <th>2025-03-31</th>\n",
              "      <td>559.39</td>\n",
              "      <td>259.16</td>\n",
              "      <td>932.53</td>\n",
              "      <td>222.13</td>\n",
              "      <td>28.28</td>\n",
              "      <td>576.36</td>\n",
              "    </tr>\n",
              "    <tr>\n",
              "      <th>2025-02-28</th>\n",
              "      <td>594.18</td>\n",
              "      <td>292.98</td>\n",
              "      <td>980.56</td>\n",
              "      <td>241.84</td>\n",
              "      <td>27.41</td>\n",
              "      <td>668.20</td>\n",
              "    </tr>\n",
              "    <tr>\n",
              "      <th>2025-01-31</th>\n",
              "      <td>601.82</td>\n",
              "      <td>404.60</td>\n",
              "      <td>976.76</td>\n",
              "      <td>236.00</td>\n",
              "      <td>23.73</td>\n",
              "      <td>689.18</td>\n",
              "    </tr>\n",
              "    <tr>\n",
              "      <th>2024-12-31</th>\n",
              "      <td>586.08</td>\n",
              "      <td>403.84</td>\n",
              "      <td>891.32</td>\n",
              "      <td>250.42</td>\n",
              "      <td>22.77</td>\n",
              "      <td>585.51</td>\n",
              "    </tr>\n",
              "    <tr>\n",
              "      <th>2024-11-29</th>\n",
              "      <td>602.55</td>\n",
              "      <td>345.16</td>\n",
              "      <td>886.81</td>\n",
              "      <td>237.33</td>\n",
              "      <td>23.16</td>\n",
              "      <td>574.32</td>\n",
              "    </tr>\n",
              "    <tr>\n",
              "      <th>2024-10-31</th>\n",
              "      <td>568.64</td>\n",
              "      <td>249.85</td>\n",
              "      <td>756.03</td>\n",
              "      <td>225.91</td>\n",
              "      <td>22.54</td>\n",
              "      <td>567.58</td>\n",
              "    </tr>\n",
              "    <tr>\n",
              "      <th>2024-09-30</th>\n",
              "      <td>573.76</td>\n",
              "      <td>261.63</td>\n",
              "      <td>709.27</td>\n",
              "      <td>233.00</td>\n",
              "      <td>22.00</td>\n",
              "      <td>572.44</td>\n",
              "    </tr>\n",
              "    <tr>\n",
              "      <th>2024-08-30</th>\n",
              "      <td>563.68</td>\n",
              "      <td>214.11</td>\n",
              "      <td>701.35</td>\n",
              "      <td>229.00</td>\n",
              "      <td>19.90</td>\n",
              "      <td>521.31</td>\n",
              "    </tr>\n",
              "    <tr>\n",
              "      <th>2024-07-31</th>\n",
              "      <td>550.81</td>\n",
              "      <td>232.07</td>\n",
              "      <td>628.35</td>\n",
              "      <td>222.08</td>\n",
              "      <td>19.25</td>\n",
              "      <td>474.83</td>\n",
              "    </tr>\n",
              "    <tr>\n",
              "      <th>2024-06-28</th>\n",
              "      <td>544.22</td>\n",
              "      <td>197.88</td>\n",
              "      <td>674.88</td>\n",
              "      <td>210.62</td>\n",
              "      <td>19.11</td>\n",
              "      <td>504.22</td>\n",
              "    </tr>\n",
              "    <tr>\n",
              "      <th>2024-05-31</th>\n",
              "      <td>527.37</td>\n",
              "      <td>178.08</td>\n",
              "      <td>641.62</td>\n",
              "      <td>192.25</td>\n",
              "      <td>18.22</td>\n",
              "      <td>466.83</td>\n",
              "    </tr>\n",
              "    <tr>\n",
              "      <th>2024-04-30</th>\n",
              "      <td>501.98</td>\n",
              "      <td>183.28</td>\n",
              "      <td>550.64</td>\n",
              "      <td>170.33</td>\n",
              "      <td>16.89</td>\n",
              "      <td>430.17</td>\n",
              "    </tr>\n",
              "    <tr>\n",
              "      <th>2024-03-28</th>\n",
              "      <td>523.07</td>\n",
              "      <td>175.79</td>\n",
              "      <td>607.33</td>\n",
              "      <td>171.48</td>\n",
              "      <td>17.60</td>\n",
              "      <td>485.58</td>\n",
              "    </tr>\n",
              "    <tr>\n",
              "      <th>2024-02-29</th>\n",
              "      <td>508.08</td>\n",
              "      <td>201.88</td>\n",
              "      <td>602.92</td>\n",
              "      <td>180.75</td>\n",
              "      <td>16.93</td>\n",
              "      <td>490.13</td>\n",
              "    </tr>\n",
              "    <tr>\n",
              "      <th>2024-01-31</th>\n",
              "      <td>482.88</td>\n",
              "      <td>187.29</td>\n",
              "      <td>564.11</td>\n",
              "      <td>184.40</td>\n",
              "      <td>17.69</td>\n",
              "      <td>390.14</td>\n",
              "    </tr>\n",
              "    <tr>\n",
              "      <th>2023-12-29</th>\n",
              "      <td>475.31</td>\n",
              "      <td>248.48</td>\n",
              "      <td>486.88</td>\n",
              "      <td>192.53</td>\n",
              "      <td>16.78</td>\n",
              "      <td>353.96</td>\n",
              "    </tr>\n",
              "    <tr>\n",
              "      <th>2023-11-30</th>\n",
              "      <td>456.40</td>\n",
              "      <td>240.08</td>\n",
              "      <td>473.97</td>\n",
              "      <td>189.95</td>\n",
              "      <td>16.57</td>\n",
              "      <td>327.15</td>\n",
              "    </tr>\n",
              "    <tr>\n",
              "      <th>2023-10-31</th>\n",
              "      <td>418.20</td>\n",
              "      <td>200.84</td>\n",
              "      <td>411.69</td>\n",
              "      <td>170.77</td>\n",
              "      <td>15.40</td>\n",
              "      <td>301.27</td>\n",
              "    </tr>\n",
              "    <tr>\n",
              "      <th>2023-09-29</th>\n",
              "      <td>427.48</td>\n",
              "      <td>250.22</td>\n",
              "      <td>377.60</td>\n",
              "      <td>171.21</td>\n",
              "      <td>15.02</td>\n",
              "      <td>300.21</td>\n",
              "    </tr>\n",
              "  </tbody>\n",
              "</table>\n",
              "</div>"
            ],
            "text/plain": [
              "               SPY    TSLA     NFLX    AAPL      T    META\n",
              "Date                                                      \n",
              "2025-08-29  645.05  333.87  1208.25  232.14  29.29  738.70\n",
              "2025-07-31  632.08  308.27  1159.40  207.57  27.41  773.44\n",
              "2025-06-30  617.85  317.66  1339.13  205.17  28.94  738.09\n",
              "2025-05-30  589.39  346.46  1207.23  200.85  27.80  647.49\n",
              "2025-04-30  554.54  282.16  1131.72  212.50  27.70  549.00\n",
              "2025-03-31  559.39  259.16   932.53  222.13  28.28  576.36\n",
              "2025-02-28  594.18  292.98   980.56  241.84  27.41  668.20\n",
              "2025-01-31  601.82  404.60   976.76  236.00  23.73  689.18\n",
              "2024-12-31  586.08  403.84   891.32  250.42  22.77  585.51\n",
              "2024-11-29  602.55  345.16   886.81  237.33  23.16  574.32\n",
              "2024-10-31  568.64  249.85   756.03  225.91  22.54  567.58\n",
              "2024-09-30  573.76  261.63   709.27  233.00  22.00  572.44\n",
              "2024-08-30  563.68  214.11   701.35  229.00  19.90  521.31\n",
              "2024-07-31  550.81  232.07   628.35  222.08  19.25  474.83\n",
              "2024-06-28  544.22  197.88   674.88  210.62  19.11  504.22\n",
              "2024-05-31  527.37  178.08   641.62  192.25  18.22  466.83\n",
              "2024-04-30  501.98  183.28   550.64  170.33  16.89  430.17\n",
              "2024-03-28  523.07  175.79   607.33  171.48  17.60  485.58\n",
              "2024-02-29  508.08  201.88   602.92  180.75  16.93  490.13\n",
              "2024-01-31  482.88  187.29   564.11  184.40  17.69  390.14\n",
              "2023-12-29  475.31  248.48   486.88  192.53  16.78  353.96\n",
              "2023-11-30  456.40  240.08   473.97  189.95  16.57  327.15\n",
              "2023-10-31  418.20  200.84   411.69  170.77  15.40  301.27\n",
              "2023-09-29  427.48  250.22   377.60  171.21  15.02  300.21"
            ]
          },
          "execution_count": 84,
          "metadata": {},
          "output_type": "execute_result"
        }
      ],
      "source": [
        "# YOUR CHANGES HERE\n",
        "\n",
        "# Load some relevant packages\n",
        "import matplotlib.pyplot as plt\n",
        "import numpy as np\n",
        "import pandas as pd\n",
        "\n",
        "# Read in the TSV created above\n",
        "historical_prices = pd.read_csv(\"historical_prices.tsv\", sep=\"\\t\")\n",
        "historical_prices[\"Date\"] = pd.to_datetime(historical_prices[\"Date\"])\n",
        "historical_prices = historical_prices.set_index(\"Date\")\n",
        "historical_prices\n"
      ]
    },
    {
      "cell_type": "code",
      "execution_count": 90,
      "metadata": {},
      "outputs": [
        {
          "name": "stdout",
          "output_type": "stream",
          "text": [
            "Earliest date: 2023-09-29 00:00:00\n",
            "Latest date  : 2025-08-29 00:00:00\n",
            "Shape        : (24, 6)\n"
          ]
        }
      ],
      "source": [
        "print(\"Earliest date:\", historical_prices.index.min())\n",
        "print(\"Latest date  :\", historical_prices.index.max())\n",
        "print(\"Shape        :\", historical_prices.shape)"
      ]
    },
    {
      "cell_type": "code",
      "execution_count": null,
      "metadata": {},
      "outputs": [
        {
          "data": {
            "image/png": "[encoded data removed]",
            "text/plain": [
              "<Figure size 1200x600 with 1 Axes>"
            ]
          },
          "metadata": {},
          "output_type": "display_data"
        }
      ],
      "source": [
        "# Visualization of the data for context\n",
        "historical_prices.sort_index().plot(figsize=(12,6))\n",
        "plt.ylim(0)\n",
        "plt.title(\"Stock Price History\")\n",
        "plt.ylabel(\"Price ($)\")\n",
        "plt.show()"
      ]
    },
    {
      "cell_type": "markdown",
      "metadata": {
        "id": "OjhEYCWOrIu3"
      },
      "source": [
        "Save the data as a TSV file named \"historical_returns.tsv\" and include a header row with the column names \"date\" and the 6 stock ticker symbols.\n",
        "Each row should have the date at the end of the month and the corresponding *relative* price changes.\n",
        "For example, if the previous price was \\$100 and the new price is \\$110, the return value should be 0.10.\n",
        "There should only be 23 rows of data in this file, since they are computed as the differences of 24 prices."
      ]
    },
    {
      "cell_type": "code",
      "execution_count": 88,
      "metadata": {
        "id": "cN-7q9QvvyKG"
      },
      "outputs": [
        {
          "data": {
            "text/html": [
              "<div>\n",
              "<style scoped>\n",
              "    .dataframe tbody tr th:only-of-type {\n",
              "        vertical-align: middle;\n",
              "    }\n",
              "\n",
              "    .dataframe tbody tr th {\n",
              "        vertical-align: top;\n",
              "    }\n",
              "\n",
              "    .dataframe thead th {\n",
              "        text-align: right;\n",
              "    }\n",
              "</style>\n",
              "<table border=\"1\" class=\"dataframe\">\n",
              "  <thead>\n",
              "    <tr style=\"text-align: right;\">\n",
              "      <th></th>\n",
              "      <th>SPY</th>\n",
              "      <th>TSLA</th>\n",
              "      <th>NFLX</th>\n",
              "      <th>AAPL</th>\n",
              "      <th>T</th>\n",
              "      <th>META</th>\n",
              "    </tr>\n",
              "    <tr>\n",
              "      <th>Date</th>\n",
              "      <th></th>\n",
              "      <th></th>\n",
              "      <th></th>\n",
              "      <th></th>\n",
              "      <th></th>\n",
              "      <th></th>\n",
              "    </tr>\n",
              "  </thead>\n",
              "  <tbody>\n",
              "    <tr>\n",
              "      <th>2023-10-31</th>\n",
              "      <td>-0.021709</td>\n",
              "      <td>-0.197346</td>\n",
              "      <td>0.090281</td>\n",
              "      <td>-0.002570</td>\n",
              "      <td>0.025300</td>\n",
              "      <td>0.003531</td>\n",
              "    </tr>\n",
              "    <tr>\n",
              "      <th>2023-11-30</th>\n",
              "      <td>0.091344</td>\n",
              "      <td>0.195379</td>\n",
              "      <td>0.151279</td>\n",
              "      <td>0.112315</td>\n",
              "      <td>0.075974</td>\n",
              "      <td>0.085903</td>\n",
              "    </tr>\n",
              "    <tr>\n",
              "      <th>2023-12-29</th>\n",
              "      <td>0.041433</td>\n",
              "      <td>0.034988</td>\n",
              "      <td>0.027238</td>\n",
              "      <td>0.013583</td>\n",
              "      <td>0.012674</td>\n",
              "      <td>0.081950</td>\n",
              "    </tr>\n",
              "    <tr>\n",
              "      <th>2024-01-31</th>\n",
              "      <td>0.015926</td>\n",
              "      <td>-0.246257</td>\n",
              "      <td>0.158622</td>\n",
              "      <td>-0.042227</td>\n",
              "      <td>0.054231</td>\n",
              "      <td>0.102215</td>\n",
              "    </tr>\n",
              "    <tr>\n",
              "      <th>2024-02-29</th>\n",
              "      <td>0.052187</td>\n",
              "      <td>0.077901</td>\n",
              "      <td>0.068799</td>\n",
              "      <td>-0.019794</td>\n",
              "      <td>-0.042962</td>\n",
              "      <td>0.256293</td>\n",
              "    </tr>\n",
              "    <tr>\n",
              "      <th>2024-03-28</th>\n",
              "      <td>0.029503</td>\n",
              "      <td>-0.129235</td>\n",
              "      <td>0.007314</td>\n",
              "      <td>-0.051286</td>\n",
              "      <td>0.039575</td>\n",
              "      <td>-0.009283</td>\n",
              "    </tr>\n",
              "    <tr>\n",
              "      <th>2024-04-30</th>\n",
              "      <td>-0.040320</td>\n",
              "      <td>0.042608</td>\n",
              "      <td>-0.093343</td>\n",
              "      <td>-0.006706</td>\n",
              "      <td>-0.040341</td>\n",
              "      <td>-0.114111</td>\n",
              "    </tr>\n",
              "    <tr>\n",
              "      <th>2024-05-31</th>\n",
              "      <td>0.050580</td>\n",
              "      <td>-0.028372</td>\n",
              "      <td>0.165226</td>\n",
              "      <td>0.128691</td>\n",
              "      <td>0.078745</td>\n",
              "      <td>0.085222</td>\n",
              "    </tr>\n",
              "    <tr>\n",
              "      <th>2024-06-28</th>\n",
              "      <td>0.031951</td>\n",
              "      <td>0.111186</td>\n",
              "      <td>0.051838</td>\n",
              "      <td>0.095553</td>\n",
              "      <td>0.048847</td>\n",
              "      <td>0.080093</td>\n",
              "    </tr>\n",
              "    <tr>\n",
              "      <th>2024-07-31</th>\n",
              "      <td>0.012109</td>\n",
              "      <td>0.172781</td>\n",
              "      <td>-0.068946</td>\n",
              "      <td>0.054411</td>\n",
              "      <td>0.007326</td>\n",
              "      <td>-0.058288</td>\n",
              "    </tr>\n",
              "    <tr>\n",
              "      <th>2024-08-30</th>\n",
              "      <td>0.023366</td>\n",
              "      <td>-0.077390</td>\n",
              "      <td>0.116177</td>\n",
              "      <td>0.031160</td>\n",
              "      <td>0.033766</td>\n",
              "      <td>0.097888</td>\n",
              "    </tr>\n",
              "    <tr>\n",
              "      <th>2024-09-30</th>\n",
              "      <td>0.017882</td>\n",
              "      <td>0.221942</td>\n",
              "      <td>0.011293</td>\n",
              "      <td>0.017467</td>\n",
              "      <td>0.105528</td>\n",
              "      <td>0.098080</td>\n",
              "    </tr>\n",
              "    <tr>\n",
              "      <th>2024-10-31</th>\n",
              "      <td>-0.008924</td>\n",
              "      <td>-0.045025</td>\n",
              "      <td>0.065927</td>\n",
              "      <td>-0.030429</td>\n",
              "      <td>0.024545</td>\n",
              "      <td>-0.008490</td>\n",
              "    </tr>\n",
              "    <tr>\n",
              "      <th>2024-11-29</th>\n",
              "      <td>0.059634</td>\n",
              "      <td>0.381469</td>\n",
              "      <td>0.172983</td>\n",
              "      <td>0.050551</td>\n",
              "      <td>0.027507</td>\n",
              "      <td>0.011875</td>\n",
              "    </tr>\n",
              "    <tr>\n",
              "      <th>2024-12-31</th>\n",
              "      <td>-0.027334</td>\n",
              "      <td>0.170008</td>\n",
              "      <td>0.005086</td>\n",
              "      <td>0.055155</td>\n",
              "      <td>-0.016839</td>\n",
              "      <td>0.019484</td>\n",
              "    </tr>\n",
              "    <tr>\n",
              "      <th>2025-01-31</th>\n",
              "      <td>0.026856</td>\n",
              "      <td>0.001882</td>\n",
              "      <td>0.095858</td>\n",
              "      <td>-0.057583</td>\n",
              "      <td>0.042161</td>\n",
              "      <td>0.177059</td>\n",
              "    </tr>\n",
              "    <tr>\n",
              "      <th>2025-02-28</th>\n",
              "      <td>-0.012695</td>\n",
              "      <td>-0.275877</td>\n",
              "      <td>0.003890</td>\n",
              "      <td>0.024746</td>\n",
              "      <td>0.155078</td>\n",
              "      <td>-0.030442</td>\n",
              "    </tr>\n",
              "    <tr>\n",
              "      <th>2025-03-31</th>\n",
              "      <td>-0.058551</td>\n",
              "      <td>-0.115435</td>\n",
              "      <td>-0.048982</td>\n",
              "      <td>-0.081500</td>\n",
              "      <td>0.031740</td>\n",
              "      <td>-0.137444</td>\n",
              "    </tr>\n",
              "    <tr>\n",
              "      <th>2025-04-30</th>\n",
              "      <td>-0.008670</td>\n",
              "      <td>0.088748</td>\n",
              "      <td>0.213602</td>\n",
              "      <td>-0.043353</td>\n",
              "      <td>-0.020509</td>\n",
              "      <td>-0.047470</td>\n",
              "    </tr>\n",
              "    <tr>\n",
              "      <th>2025-05-30</th>\n",
              "      <td>0.062845</td>\n",
              "      <td>0.227885</td>\n",
              "      <td>0.066721</td>\n",
              "      <td>-0.054824</td>\n",
              "      <td>0.003610</td>\n",
              "      <td>0.179399</td>\n",
              "    </tr>\n",
              "    <tr>\n",
              "      <th>2025-06-30</th>\n",
              "      <td>0.048287</td>\n",
              "      <td>-0.083126</td>\n",
              "      <td>0.109258</td>\n",
              "      <td>0.021509</td>\n",
              "      <td>0.041007</td>\n",
              "      <td>0.139925</td>\n",
              "    </tr>\n",
              "    <tr>\n",
              "      <th>2025-07-31</th>\n",
              "      <td>0.023031</td>\n",
              "      <td>-0.029560</td>\n",
              "      <td>-0.134214</td>\n",
              "      <td>0.011698</td>\n",
              "      <td>-0.052868</td>\n",
              "      <td>0.047894</td>\n",
              "    </tr>\n",
              "    <tr>\n",
              "      <th>2025-08-29</th>\n",
              "      <td>0.020520</td>\n",
              "      <td>0.083044</td>\n",
              "      <td>0.042134</td>\n",
              "      <td>0.118370</td>\n",
              "      <td>0.068588</td>\n",
              "      <td>-0.044916</td>\n",
              "    </tr>\n",
              "  </tbody>\n",
              "</table>\n",
              "</div>"
            ],
            "text/plain": [
              "                 SPY      TSLA      NFLX      AAPL         T      META\n",
              "Date                                                                  \n",
              "2023-10-31 -0.021709 -0.197346  0.090281 -0.002570  0.025300  0.003531\n",
              "2023-11-30  0.091344  0.195379  0.151279  0.112315  0.075974  0.085903\n",
              "2023-12-29  0.041433  0.034988  0.027238  0.013583  0.012674  0.081950\n",
              "2024-01-31  0.015926 -0.246257  0.158622 -0.042227  0.054231  0.102215\n",
              "2024-02-29  0.052187  0.077901  0.068799 -0.019794 -0.042962  0.256293\n",
              "2024-03-28  0.029503 -0.129235  0.007314 -0.051286  0.039575 -0.009283\n",
              "2024-04-30 -0.040320  0.042608 -0.093343 -0.006706 -0.040341 -0.114111\n",
              "2024-05-31  0.050580 -0.028372  0.165226  0.128691  0.078745  0.085222\n",
              "2024-06-28  0.031951  0.111186  0.051838  0.095553  0.048847  0.080093\n",
              "2024-07-31  0.012109  0.172781 -0.068946  0.054411  0.007326 -0.058288\n",
              "2024-08-30  0.023366 -0.077390  0.116177  0.031160  0.033766  0.097888\n",
              "2024-09-30  0.017882  0.221942  0.011293  0.017467  0.105528  0.098080\n",
              "2024-10-31 -0.008924 -0.045025  0.065927 -0.030429  0.024545 -0.008490\n",
              "2024-11-29  0.059634  0.381469  0.172983  0.050551  0.027507  0.011875\n",
              "2024-12-31 -0.027334  0.170008  0.005086  0.055155 -0.016839  0.019484\n",
              "2025-01-31  0.026856  0.001882  0.095858 -0.057583  0.042161  0.177059\n",
              "2025-02-28 -0.012695 -0.275877  0.003890  0.024746  0.155078 -0.030442\n",
              "2025-03-31 -0.058551 -0.115435 -0.048982 -0.081500  0.031740 -0.137444\n",
              "2025-04-30 -0.008670  0.088748  0.213602 -0.043353 -0.020509 -0.047470\n",
              "2025-05-30  0.062845  0.227885  0.066721 -0.054824  0.003610  0.179399\n",
              "2025-06-30  0.048287 -0.083126  0.109258  0.021509  0.041007  0.139925\n",
              "2025-07-31  0.023031 -0.029560 -0.134214  0.011698 -0.052868  0.047894\n",
              "2025-08-29  0.020520  0.083044  0.042134  0.118370  0.068588 -0.044916"
            ]
          },
          "execution_count": 88,
          "metadata": {},
          "output_type": "execute_result"
        }
      ],
      "source": [
        "# YOUR CHANGES HERE\n",
        "historical_prices = historical_prices.sort_index()\n",
        "\n",
        "historical_returns = historical_prices.pct_change().dropna()\n",
        "historical_returns"
      ]
    },
    {
      "cell_type": "code",
      "execution_count": 99,
      "metadata": {},
      "outputs": [],
      "source": [
        "historical_returns.reset_index().to_csv(\"historical_returns.tsv\", sep=\"\\t\", index=False)"
      ]
    },
    {
      "cell_type": "code",
      "execution_count": 101,
      "metadata": {},
      "outputs": [
        {
          "data": {
            "image/png": "[encoded data removed]",
            "text/plain": [
              "<Figure size 640x480 with 1 Axes>"
            ]
          },
          "metadata": {},
          "output_type": "display_data"
        }
      ],
      "source": [
        "# Visualize for fun\n",
        "historical_returns.plot();"
      ]
    },
    {
      "cell_type": "markdown",
      "metadata": {
        "id": "vyBtnCTUtfRq"
      },
      "source": [
        "Submit \"historical_returns.tsv\" in Gradescope."
      ]
    },
    {
      "cell_type": "markdown",
      "metadata": {
        "id": "MoCkf4ouV9IA"
      },
      "source": [
        "## Part 3: Estimate Returns\n",
        "\n",
        "Estimate the expected returns for each asset using the previously calculated return data.\n",
        "Just compute the average (mean) return for each asset over your data set; do not use other estimators that have been mentioned.\n",
        "This will serve as your estimate of expected return for each asset."
      ]
    },
    {
      "cell_type": "code",
      "execution_count": 102,
      "metadata": {
        "id": "N2iDEhSRxd2n"
      },
      "outputs": [
        {
          "data": {
            "text/plain": [
              "SPY     0.018663\n",
              "TSLA    0.025313\n",
              "NFLX    0.055567\n",
              "AAPL    0.014997\n",
              "T       0.030551\n",
              "META    0.044190\n",
              "dtype: float64"
            ]
          },
          "execution_count": 102,
          "metadata": {},
          "output_type": "execute_result"
        }
      ],
      "source": [
        "# YOUR CHANGES HERE\n",
        "\n",
        "estimated_returns = historical_returns.mean()\n",
        "estimated_returns"
      ]
    },
    {
      "cell_type": "markdown",
      "metadata": {
        "id": "e5YTEwoarM2M"
      },
      "source": [
        "Save the estimated returns in a TSV file named \"estimated_returns.tsv\" and include a header row with the column names \"asset\" and \"estimated_return\"."
      ]
    },
    {
      "cell_type": "code",
      "execution_count": 104,
      "metadata": {
        "id": "At71YDpwvwUw"
      },
      "outputs": [],
      "source": [
        "# YOUR CHANGES HERE\n",
        "\n",
        "estimated_returns = estimated_returns.reset_index()\n",
        "estimated_returns.columns = [\"asset\", \"estimated_return\"]\n",
        "\n",
        "estimated_returns.to_csv(\"estimated_returns.tsv\", sep=\"\\t\", index=False)"
      ]
    },
    {
      "cell_type": "markdown",
      "metadata": {
        "id": "cjfnF-2Wtj6r"
      },
      "source": [
        "Submit \"estimated_returns.tsv\" in Gradescope."
      ]
    },
    {
      "cell_type": "markdown",
      "metadata": {
        "id": "VTuIqrkAWXVL"
      },
      "source": [
        "## Part 4: Estimate Risk\n",
        "\n",
        "Estimate the covariance matrix for the asset returns to understand how the assets move together."
      ]
    },
    {
      "cell_type": "code",
      "execution_count": 103,
      "metadata": {
        "id": "RFZfIkTMxcv7"
      },
      "outputs": [
        {
          "data": {
            "text/html": [
              "<div>\n",
              "<style scoped>\n",
              "    .dataframe tbody tr th:only-of-type {\n",
              "        vertical-align: middle;\n",
              "    }\n",
              "\n",
              "    .dataframe tbody tr th {\n",
              "        vertical-align: top;\n",
              "    }\n",
              "\n",
              "    .dataframe thead th {\n",
              "        text-align: right;\n",
              "    }\n",
              "</style>\n",
              "<table border=\"1\" class=\"dataframe\">\n",
              "  <thead>\n",
              "    <tr style=\"text-align: right;\">\n",
              "      <th></th>\n",
              "      <th>SPY</th>\n",
              "      <th>TSLA</th>\n",
              "      <th>NFLX</th>\n",
              "      <th>AAPL</th>\n",
              "      <th>T</th>\n",
              "      <th>META</th>\n",
              "    </tr>\n",
              "  </thead>\n",
              "  <tbody>\n",
              "    <tr>\n",
              "      <th>SPY</th>\n",
              "      <td>0.001299</td>\n",
              "      <td>0.002412</td>\n",
              "      <td>0.001441</td>\n",
              "      <td>0.000823</td>\n",
              "      <td>0.000240</td>\n",
              "      <td>0.002445</td>\n",
              "    </tr>\n",
              "    <tr>\n",
              "      <th>TSLA</th>\n",
              "      <td>0.002412</td>\n",
              "      <td>0.026703</td>\n",
              "      <td>0.001163</td>\n",
              "      <td>0.003231</td>\n",
              "      <td>-0.001943</td>\n",
              "      <td>0.002167</td>\n",
              "    </tr>\n",
              "    <tr>\n",
              "      <th>NFLX</th>\n",
              "      <td>0.001441</td>\n",
              "      <td>0.001163</td>\n",
              "      <td>0.007977</td>\n",
              "      <td>0.000676</td>\n",
              "      <td>0.001120</td>\n",
              "      <td>0.003282</td>\n",
              "    </tr>\n",
              "    <tr>\n",
              "      <th>AAPL</th>\n",
              "      <td>0.000823</td>\n",
              "      <td>0.003231</td>\n",
              "      <td>0.000676</td>\n",
              "      <td>0.003591</td>\n",
              "      <td>0.000937</td>\n",
              "      <td>0.000011</td>\n",
              "    </tr>\n",
              "    <tr>\n",
              "      <th>T</th>\n",
              "      <td>0.000240</td>\n",
              "      <td>-0.001943</td>\n",
              "      <td>0.001120</td>\n",
              "      <td>0.000937</td>\n",
              "      <td>0.002368</td>\n",
              "      <td>-0.000039</td>\n",
              "    </tr>\n",
              "    <tr>\n",
              "      <th>META</th>\n",
              "      <td>0.002445</td>\n",
              "      <td>0.002167</td>\n",
              "      <td>0.003282</td>\n",
              "      <td>0.000011</td>\n",
              "      <td>-0.000039</td>\n",
              "      <td>0.009309</td>\n",
              "    </tr>\n",
              "  </tbody>\n",
              "</table>\n",
              "</div>"
            ],
            "text/plain": [
              "           SPY      TSLA      NFLX      AAPL         T      META\n",
              "SPY   0.001299  0.002412  0.001441  0.000823  0.000240  0.002445\n",
              "TSLA  0.002412  0.026703  0.001163  0.003231 -0.001943  0.002167\n",
              "NFLX  0.001441  0.001163  0.007977  0.000676  0.001120  0.003282\n",
              "AAPL  0.000823  0.003231  0.000676  0.003591  0.000937  0.000011\n",
              "T     0.000240 -0.001943  0.001120  0.000937  0.002368 -0.000039\n",
              "META  0.002445  0.002167  0.003282  0.000011 -0.000039  0.009309"
            ]
          },
          "execution_count": 103,
          "metadata": {},
          "output_type": "execute_result"
        }
      ],
      "source": [
        "# YOUR CHANGES HERE\n",
        "\n",
        "estimated_covariances = historical_returns.cov()\n",
        "estimated_covariances"
      ]
    },
    {
      "cell_type": "markdown",
      "metadata": {
        "id": "sOmn4s_yr5qn"
      },
      "source": [
        "Save the estimated covariances to a TSV file named \"estimated_covariance.tsv\".\n",
        "The header row should have a blank column name followed by the names of the assets.\n",
        "Each data row should start with the name of an asset for that row, and be followed by the individual covariances corresponding to that row and column's assets.\n",
        "(This is the format of pandas's `to_csv` method with `sep=\"\\t\"` when used on a covariance matrix as computed in the examples.)"
      ]
    },
    {
      "cell_type": "code",
      "execution_count": 106,
      "metadata": {
        "id": "Te-NPQxSvuXm"
      },
      "outputs": [],
      "source": [
        "# YOUR CHANGES HERE\n",
        "\n",
        "estimated_covariances.to_csv(\"estimated_covariances.tsv\", sep=\"\\t\", index=True)"
      ]
    },
    {
      "cell_type": "markdown",
      "metadata": {
        "id": "lS9vek0btoK6"
      },
      "source": [
        "Submit \"estimated_covariance.tsv\" in Gradescope."
      ]
    },
    {
      "cell_type": "markdown",
      "metadata": {
        "id": "C8rC5Eo3sEme"
      },
      "source": [
        "## Part 5: Construct the Maximum Return Portfolio\n",
        "\n",
        "Compute the maximum return portfolio based on your previously estimated risks and returns."
      ]
    },
    {
      "cell_type": "code",
      "execution_count": null,
      "metadata": {
        "id": "8LW0KKm-xb2I"
      },
      "outputs": [],
      "source": [
        "# YOUR CHANGES HERE\n",
        "\n",
        "..."
      ]
    },
    {
      "cell_type": "markdown",
      "metadata": {
        "id": "jjPOxui5sLTD"
      },
      "source": [
        "Save the maximum return portfolio in a TSV file named \"maximum_return.tsv\".\n",
        "The header row should have two columns, \"asset\" and \"allocation\".\n",
        "The allocation values should sum up to one.\n"
      ]
    },
    {
      "cell_type": "code",
      "execution_count": null,
      "metadata": {
        "id": "xLl_j8z1vtiT"
      },
      "outputs": [],
      "source": [
        "# YOUR CHANGES HERE\n",
        "\n",
        "..."
      ]
    },
    {
      "cell_type": "markdown",
      "metadata": {
        "id": "4bm3xrxptqJ2"
      },
      "source": [
        "Submit \"maximum_return.tsv\" in Gradescope."
      ]
    },
    {
      "cell_type": "markdown",
      "metadata": {
        "id": "r_QxQ5NpsL-c"
      },
      "source": [
        "## Part 6: Construct the Minimum Risk Portfolio\n",
        "\n",
        "Compute the minimum risk portfolio based on your previously estimated risks."
      ]
    },
    {
      "cell_type": "code",
      "execution_count": null,
      "metadata": {
        "id": "daHSqhv9xbIF"
      },
      "outputs": [],
      "source": [
        "# YOUR CHANGES HERE\n",
        "\n",
        "..."
      ]
    },
    {
      "cell_type": "markdown",
      "metadata": {
        "id": "wzldkIPxsQor"
      },
      "source": [
        "Save the minimum risk portfolio in a TSV file named \"minimum_risk.tsv\".\n",
        "The header row should have two columns, \"asset\" and \"allocation\".\n",
        "The allocation values should sum up to one.\n"
      ]
    },
    {
      "cell_type": "code",
      "execution_count": null,
      "metadata": {
        "id": "YRXccAflvrBZ"
      },
      "outputs": [],
      "source": [
        "# YOUR CHANGES HERE\n",
        "\n",
        "..."
      ]
    },
    {
      "cell_type": "markdown",
      "metadata": {
        "id": "P5gy_XETtsoi"
      },
      "source": [
        "Submit \"minimum_risk.tsv\" in Gradescope."
      ]
    },
    {
      "cell_type": "markdown",
      "metadata": {
        "id": "mzyJGWDvWhva"
      },
      "source": [
        "## Part 7: Build Efficient Frontier Portfolios\n",
        "\n",
        "Compute 101 portfolios along the mean-variance efficient frontier with evenly spaced estimated returns.\n",
        "The first portfolio should be the minimum risk portfolio from part 4, and the last portfolio should be the maximum return portfolio from part 3.\n",
        "The estimated return of each portfolio should be higher than the previous by one percent of the difference between the first and last portfolios.\n",
        "That is, the estimated return of the portfolios should be similar to `np.linspace(min_risk_return, max_return, 101)`.\n"
      ]
    },
    {
      "cell_type": "code",
      "execution_count": null,
      "metadata": {
        "id": "XaR6mKwvxZ4W"
      },
      "outputs": [],
      "source": [
        "# YOUR CHANGES HERE\n",
        "\n",
        "..."
      ]
    },
    {
      "cell_type": "markdown",
      "metadata": {
        "id": "8e3WwTJvsDzh"
      },
      "source": [
        "Save the portfolios in a TSV file named \"efficient_frontier.tsv\".\n",
        "The header row should have columns \"index\", \"return\", \"risk\", and all the asset tickers.\n",
        "Each data row should have the portfolio index (0-100), the estimated return of the portfolio, the estimated standard deviation (not variance) of the portfolio, and all the asset allocations (which should sum to one)."
      ]
    },
    {
      "cell_type": "code",
      "execution_count": null,
      "metadata": {
        "id": "e9DKadyNvniT"
      },
      "outputs": [],
      "source": [
        "# YOUR CHANGES HERE\n",
        "\n",
        "..."
      ]
    },
    {
      "cell_type": "markdown",
      "metadata": {
        "id": "jiOa06rItvbs"
      },
      "source": [
        "Submit \"efficient_frontier.tsv\" in Gradescope."
      ]
    },
    {
      "cell_type": "markdown",
      "metadata": {
        "id": "LoW0XBXAzzR6"
      },
      "source": [
        "## Part 8: Check Maximum Return Portfolio Stability\n",
        "\n",
        "Check the stability of the maximum return portfolio by resampling the estimated risk/return model.\n",
        "\n",
        "Repeat 1000 times -\n",
        "1. Use `np.random.multivariate_normal` to generate 23 return samples using your previously estimated risks and returns.\n",
        "2. Estimate the return of each asset using that resampled return history.\n",
        "3. Check which asset had the highest return in those resampled estimates.\n",
        "\n",
        "This procedure is a reduced and simplified version of the Michaud resampled efficient frontier procedure that takes uncertainty in the risk model into account."
      ]
    },
    {
      "cell_type": "code",
      "execution_count": null,
      "metadata": {
        "id": "Xfke5V57xYvT"
      },
      "outputs": [],
      "source": [
        "# YOUR CHANGES HERE\n",
        "\n",
        "..."
      ]
    },
    {
      "cell_type": "markdown",
      "metadata": {
        "id": "fes_ScDyz0jp"
      },
      "source": [
        "Save a file \"max_return_probabilities.tsv\" with the distribution of highest return assets.\n",
        "The header row should have columns \"asset\" and \"probability\".\n",
        "There should be a data row for each asset and its sample probability of having the highest return based on those 1000 resampled estimates.\n"
      ]
    },
    {
      "cell_type": "code",
      "execution_count": null,
      "metadata": {
        "id": "ZAjr15ASvj1S"
      },
      "outputs": [],
      "source": [
        "# YOUR CHANGES HERE\n",
        "\n",
        "..."
      ]
    },
    {
      "cell_type": "markdown",
      "metadata": {
        "id": "2Xd34FQ6txoj"
      },
      "source": [
        "Submit \"max_return_probabilities.tsv\" in Gradescope."
      ]
    },
    {
      "cell_type": "markdown",
      "metadata": {
        "id": "SYbJ21qUYvL_"
      },
      "source": [
        "## Part 9: Acknowledgments\n",
        "\n",
        "Make a file \"acknowledgments.txt\" documenting any outside sources or help on this project.\n",
        "If you discussed this assignment with anyone, please acknowledge them here.\n",
        "If you used any libraries not mentioned in this module's content, please list them with a brief explanation what you used them for.\n",
        "If you used any generative AI tools, please add links to your transcripts below, and any other information that you feel is necessary to comply with the generative AI policy.\n",
        "If no acknowledgements are appropriate, just write none in the file.\n"
      ]
    },
    {
      "cell_type": "markdown",
      "metadata": {
        "id": "H3oWYYHlt42V"
      },
      "source": [
        "Submit \"acknowledgements.txt\" in Gradescope."
      ]
    },
    {
      "cell_type": "markdown",
      "metadata": {
        "id": "b8FWiTjvwscA"
      },
      "source": [
        "## Part 10: Code\n",
        "\n",
        "Please submit a Jupyter notebook that can reproduce all your calculations and recreate the previously submitted files.\n",
        "You do not need to provide code for data collection if you did that by manually."
      ]
    },
    {
      "cell_type": "markdown",
      "metadata": {
        "id": "HDEYI-K8vcUW"
      },
      "source": [
        "Submit \"project.ipynb\" in Gradescope."
      ]
    }
  ],
  "metadata": {
    "colab": {
      "toc_visible": false
    },
    "kernelspec": {
      "display_name": "Python 3",
      "name": "python3"
    },
    "language_info": {
      "codemirror_mode": {
        "name": "ipython",
        "version": 3
      },
      "file_extension": ".py",
      "mimetype": "text/x-python",
      "name": "python",
      "nbconvert_exporter": "python",
      "pygments_lexer": "ipython3",
      "version": "3.12.1"
    }
  },
  "nbformat": 4,
  "nbformat_minor": 0
}
